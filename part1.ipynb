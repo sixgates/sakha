 {
 "cells": [
  {
   "cell_type": "markdown",
   "id": "688cbdd0",
   "metadata": {},
   "source": [
    "### ФИО, Группа #\n",
    "### После сдачи всех заданий, отправьте на почту (lanasemna@mail.ru) заполненный блокнот, тема письма: группа, фамилия и.о., сдаваемая работа. Пример: ПМИ-22, Габышев М.И. Практика 6\n",
    "### Practice 6"
   ]
  },
"metadata": {
  "kernelspec": {
   "display_name": "venv",
   "language": "python",
   "name": "python3"
  },
  "language_info": {
   "codemirror_mode": {
    "name": "ipython",
    "version": 3
   },
   "file_extension": ".py",
   "mimetype": "text/x-python",
   "name": "python",
   "nbconvert_exporter": "python",
   "pygments_lexer": "ipython3",
   "version": "3.12.10"
  }
 },
 "nbformat": 4,
 "nbformat_minor": 5
}
  
